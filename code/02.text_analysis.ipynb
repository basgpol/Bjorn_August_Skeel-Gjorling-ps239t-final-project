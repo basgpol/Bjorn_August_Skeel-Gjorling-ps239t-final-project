{
 "cells": [
  {
   "cell_type": "markdown",
   "metadata": {},
   "source": [
    "# Data Analysis: Analysing for the presence of game frames in parliamentary debates in Denmark"
   ]
  },
  {
   "cell_type": "markdown",
   "metadata": {},
   "source": [
    "This Jupyter Notebook consists of 5 parts representing my text analysis of parliamentary debates in Denmark. \n",
    "        1. Part 1 loads all the required packages\n",
    "        2. Part 2 imports the data (see the notebook \"Debate_scraping\" for the code that led to the creation of the dataset)\n",
    "        3. Part 3 creates a function used to detect the proportion of game frame words in a text\n",
    "        4. Part 4 calculates the proportion of game frame words in all debates\n",
    "        5. Part 5 store the data in a table and convert it to a CSV-file"
   ]
  },
  {
   "cell_type": "markdown",
   "metadata": {},
   "source": [
    "## Part 1: Loading packages"
   ]
  },
  {
   "cell_type": "markdown",
   "metadata": {},
   "source": [
    "In this code section, I load all the packages needed for this codebook."
   ]
  },
  {
   "cell_type": "code",
   "execution_count": 161,
   "metadata": {
    "collapsed": true
   },
   "outputs": [],
   "source": [
    "import pickle\n",
    "import nltk\n",
    "from datascience import *\n",
    "import numpy as np\n",
    "from datetime import datetime"
   ]
  },
  {
   "cell_type": "markdown",
   "metadata": {},
   "source": [
    "## Part 2: Import Data"
   ]
  },
  {
   "cell_type": "markdown",
   "metadata": {},
   "source": [
    "In this section, I import the all the data scraped in the previous jupyter notebook. I use pickle to import the data."
   ]
  },
  {
   "cell_type": "code",
   "execution_count": 2,
   "metadata": {
    "collapsed": true
   },
   "outputs": [],
   "source": [
    "# Importing debate data using pickle\n",
    "debates = pickle.load( open( \"debates.p\", \"rb\" ))"
   ]
  },
  {
   "cell_type": "code",
   "execution_count": 90,
   "metadata": {},
   "outputs": [
    {
     "data": {
      "text/plain": [
       "1172"
      ]
     },
     "execution_count": 90,
     "metadata": {},
     "output_type": "execute_result"
    }
   ],
   "source": [
    "# Checking how many observations we have to ensure that the import was succesful\n",
    "len(debates)"
   ]
  },
  {
   "cell_type": "markdown",
   "metadata": {},
   "source": [
    "## Part 3: Creating a function to detect the presence of game frame in a text"
   ]
  },
  {
   "cell_type": "markdown",
   "metadata": {},
   "source": [
    "In this section, I create a function that can calculate the proportion of game frame words in a parliamentary debate."
   ]
  },
  {
   "cell_type": "code",
   "execution_count": 35,
   "metadata": {
    "collapsed": true
   },
   "outputs": [],
   "source": [
    "#Importing important packages for preprocessing\n",
    "from nltk.corpus import stopwords\n",
    "from nltk.stem.snowball import SnowballStemmer"
   ]
  },
  {
   "cell_type": "code",
   "execution_count": 114,
   "metadata": {
    "collapsed": true
   },
   "outputs": [],
   "source": [
    "#Importing strings with punctuation and digtis\n",
    "from string import punctuation\n",
    "from string import digits"
   ]
  },
  {
   "cell_type": "code",
   "execution_count": 45,
   "metadata": {
    "collapsed": true
   },
   "outputs": [],
   "source": [
    "# Creating list for stopwords\n",
    "danish_stopwords = stopwords.words('danish')"
   ]
  },
  {
   "cell_type": "code",
   "execution_count": 121,
   "metadata": {
    "collapsed": true
   },
   "outputs": [],
   "source": [
    "# Creating a danish stemmer using NLTK\n",
    "danish_stemmer = SnowballStemmer(\"danish\")"
   ]
  },
  {
   "cell_type": "markdown",
   "metadata": {},
   "source": [
    "The cell below creates a function that can calculate the proportion of game frame words in a text (non-stop words excluded)."
   ]
  },
  {
   "cell_type": "code",
   "execution_count": 118,
   "metadata": {
    "collapsed": true
   },
   "outputs": [],
   "source": [
    "def game_frame_detect(text, list_of_game_frame_words):\n",
    "    \"\"\" The following function takes a text and a list of words as input and returns the proportion of the non-stop words \n",
    "        in the text what is in the list of words provided to the function.\n",
    "        \n",
    "        The function is structured in three parts\n",
    "            1) Text preprocessing: The text is converted to lower case and stemmend and punctuation and stop words are removed.\n",
    "            2) List preprocessing: The list of words is stemmed so it matches the preprocessed text.\n",
    "            3) Calculation: The proportion of the list of words in the text (stop words excluded) is calculated.\n",
    "        \n",
    "    \"\"\"\n",
    "    ### Part 1: Preprocessing of the text ###\n",
    "    text_lower = text.lower().strip() # converting the text to lower case\n",
    "    characters_no_punctuation = [char for char in text_lower if char not in punctuation and char not in digits] # removing all punctuation and digits from text\n",
    "    text_no_punctuation = \"\".join(characters_no_punctuation)\n",
    "    text_tokenized = text_no_punctuation.split() # tokenizing the text (= splitting into a list of words)\n",
    "    text_no_stop_words = [word for word in text_tokenized if word not in danish_stopwords] # removing stop-words\n",
    "    text_stemmed = [danish_stemmer.stem(word) for word in text_no_stop_words] # stemming all the words\n",
    "\n",
    "    ### Part 2: Preprocessing of the list of words\n",
    "    game_frame_list_lower = [word.lower().strip() for word in list_of_game_frame_words] # converting the list of words to lower case\n",
    "    game_frame_list_stemmed = [danish_stemmer.stem(word) for word in game_frame_list_lower] # stemming the list of words\n",
    "    \n",
    "    ### Part 2: Detecing the presence of game frame words (as proportion of all non-stop words)\n",
    "    number_of_non_stop_words = len(text_no_stop_words) # counting all non-stop words in the text\n",
    "    game_frame_words = [word for word in text_stemmed if word in game_frame_list_stemmed] # selecting all game-frame words from list\n",
    "    number_of_game_frame_words = len(game_frame_words) #counting all game frame words\n",
    "    game_frame_proportion = number_of_game_frame_words / number_of_non_stop_words # calculating the proportion of game frame words in the text\n",
    "    \n",
    "    return (game_frame_proportion)"
   ]
  },
  {
   "cell_type": "markdown",
   "metadata": {},
   "source": [
    "I test the function in the following cell. It works as intended. "
   ]
  },
  {
   "cell_type": "code",
   "execution_count": 119,
   "metadata": {},
   "outputs": [
    {
     "data": {
      "text/plain": [
       "0.21428571428571427"
      ]
     },
     "execution_count": 119,
     "metadata": {},
     "output_type": "execute_result"
    }
   ],
   "source": [
    "# I want to test the function on the following text\n",
    "text = \"\"\"Valget er lige om hjørnet! Det bliver for fedt! Om lidt går vælgerne til stemmeurnerne. \n",
    "            Jeg håber bare, at vi vinder magten tilbage denne gang...\"\"\"\n",
    "\n",
    "# I will use this list of game frame words\n",
    "game_frame_words = [\"Valg\", \"valgkamp\", \"valgdag\", \"vælg\"\n",
    "                   \"stem\", \"stemmeboks\", \"stemmeurne\",\n",
    "                   \"magt\", \"magtkamp\", \n",
    "                   \"flertal\", \"regeringsdan\"]\n",
    "\n",
    "# Testing the function\n",
    "game_frame_detect(text, game_frame_words)"
   ]
  },
  {
   "cell_type": "markdown",
   "metadata": {},
   "source": [
    "## Part 4: Detecting the presence of game frames in debate transcripts"
   ]
  },
  {
   "cell_type": "markdown",
   "metadata": {},
   "source": [
    "In this section, I first define a set of words that I think represents presence of a game frame. Thereafter, I use the function created in the previous section to detect the presence of game frame in all the scraped debate transcripts."
   ]
  },
  {
   "cell_type": "code",
   "execution_count": 123,
   "metadata": {
    "collapsed": true
   },
   "outputs": [],
   "source": [
    "# Creating a list of words used in Game Framing\n",
    "game_frame_words = [\"valg\", \"valgkamp\", \"valgdag\", \"vælg\"\n",
    "                   \"stem\", \"stemmeboks\", \"stemmeurne\",\n",
    "                   \"magt\", \"magtkamp\", \n",
    "                   \"flertal\", \"regeringsdannelse\"]"
   ]
  },
  {
   "cell_type": "code",
   "execution_count": 128,
   "metadata": {
    "collapsed": true
   },
   "outputs": [],
   "source": [
    "# Calculation the game frame for all debates (stored with information on the date of the debate)\n",
    "list_of_debate_date_and_game_frame_proportion = []\n",
    "\n",
    "for debate in debates:\n",
    "    date = debate[1] # select the date and time of the debate\n",
    "    game_frame_proportion = game_frame_detect(debate[2], game_frame_words) # calculating the game frame porportion in that debate\n",
    "    date_and_proportion = [date, game_frame_proportion] # creates a list with the data on date and game frame proportion\n",
    "    list_of_debate_date_and_game_frame_proportion.append(date_and_proportion) #append the date to the overall list\n",
    "    \n",
    "    "
   ]
  },
  {
   "cell_type": "code",
   "execution_count": 175,
   "metadata": {},
   "outputs": [
    {
     "data": {
      "text/plain": [
       "[['2007-10-02T12:00:00', 0.010309278350515464],\n",
       " ['2007-10-03T13:00:00', 0.00231099372730274],\n",
       " ['2007-10-04T10:00:00', 0.0024645717806531116],\n",
       " ['2007-10-05T10:00:00', 0.0032743942370661427],\n",
       " ['2007-10-09T13:00:00', 0.0010649627263045794]]"
      ]
     },
     "execution_count": 175,
     "metadata": {},
     "output_type": "execute_result"
    }
   ],
   "source": [
    "# Checking if the loop above was succesfull \n",
    "list_of_debate_date_and_game_frame_proportion[:5]"
   ]
  },
  {
   "cell_type": "markdown",
   "metadata": {},
   "source": [
    "Unfortunately, some of the scraped transcripts did not contain actual debates between politicians. The content of these could be voting for a bill, which has no interest to this study. Therefore, I remove transcripts with less the 5000 characters, which indicates that they don't contain actual debating in the parliament."
   ]
  },
  {
   "cell_type": "code",
   "execution_count": 188,
   "metadata": {},
   "outputs": [
    {
     "data": {
      "text/plain": [
       "[0, 9, 11, 200, 201, 320, 342, 351, 353, 438]"
      ]
     },
     "execution_count": 188,
     "metadata": {},
     "output_type": "execute_result"
    }
   ],
   "source": [
    "# I here find the indexes to all the transcripts with less than 5000 characters\n",
    "index = 0 # set the first index to 0\n",
    "index_of_short_transcripts = [] # creates an empty list\n",
    "\n",
    "for debate in debates:\n",
    "    num_characters = len(debate[2]) # calculates the number of characters in the debate\n",
    "    if num_characters < 5000: # if num_character is less than 5000 the index is saved in a list\n",
    "        index_of_short_transcripts.append(index)\n",
    "    index = index + 1\n",
    "    \n",
    "index_of_short_transcripts[:10] #show the result"
   ]
  },
  {
   "cell_type": "code",
   "execution_count": 189,
   "metadata": {},
   "outputs": [
    {
     "data": {
      "text/plain": [
       "29"
      ]
     },
     "execution_count": 189,
     "metadata": {},
     "output_type": "execute_result"
    }
   ],
   "source": [
    "# Number of transcripts with less than 5000 characters\n",
    "len(index_of_short_transcripts)"
   ]
  },
  {
   "cell_type": "markdown",
   "metadata": {},
   "source": [
    "## Part 5: Save data as CSV-file "
   ]
  },
  {
   "cell_type": "markdown",
   "metadata": {},
   "source": [
    "In this section, I store the data in a table, delete the observation with less than 5000 characters and save it as a CSV-file. "
   ]
  },
  {
   "cell_type": "code",
   "execution_count": 193,
   "metadata": {},
   "outputs": [
    {
     "name": "stderr",
     "output_type": "stream",
     "text": [
      "C:\\ProgramData\\Anaconda3\\lib\\site-packages\\datascience\\tables.py:81: FutureWarning: Table.empty(labels) is deprecated. Use Table(labels)\n",
      "  warnings.warn(\"Table.empty(labels) is deprecated. Use Table(labels)\", FutureWarning)\n",
      "C:\\ProgramData\\Anaconda3\\lib\\site-packages\\datascience\\tables.py:49: FutureWarning: Two-argument __init__ is deprecated. Use Table().with_columns(...)\n",
      "  warnings.warn(\"Two-argument __init__ is deprecated. Use Table().with_columns(...)\", FutureWarning)\n"
     ]
    },
    {
     "data": {
      "text/html": [
       "<table border=\"1\" class=\"dataframe\">\n",
       "    <thead>\n",
       "        <tr>\n",
       "            <th>Time</th> <th>Game frame proportion</th>\n",
       "        </tr>\n",
       "    </thead>\n",
       "    <tbody>\n",
       "</table>"
      ],
      "text/plain": [
       "Time | Game frame proportion"
      ]
     },
     "execution_count": 193,
     "metadata": {},
     "output_type": "execute_result"
    }
   ],
   "source": [
    "# I create a empty table\n",
    "t = Table().empty(make_array(\"Time\", \"Game frame proportion\"))\n",
    "t # The warning message is not important"
   ]
  },
  {
   "cell_type": "code",
   "execution_count": 198,
   "metadata": {},
   "outputs": [
    {
     "data": {
      "text/html": [
       "<table border=\"1\" class=\"dataframe\">\n",
       "    <thead>\n",
       "        <tr>\n",
       "            <th>Time</th> <th>Game frame proportion</th>\n",
       "        </tr>\n",
       "    </thead>\n",
       "    <tbody>\n",
       "        <tr>\n",
       "            <td>2007-10-02T12:00:00</td> <td>0.0103093            </td>\n",
       "        </tr>\n",
       "    </tbody>\n",
       "        <tr>\n",
       "            <td>2007-10-03T13:00:00</td> <td>0.00231099           </td>\n",
       "        </tr>\n",
       "    </tbody>\n",
       "        <tr>\n",
       "            <td>2007-10-04T10:00:00</td> <td>0.00246457           </td>\n",
       "        </tr>\n",
       "    </tbody>\n",
       "        <tr>\n",
       "            <td>2007-10-05T10:00:00</td> <td>0.00327439           </td>\n",
       "        </tr>\n",
       "    </tbody>\n",
       "        <tr>\n",
       "            <td>2007-10-09T13:00:00</td> <td>0.00106496           </td>\n",
       "        </tr>\n",
       "    </tbody>\n",
       "        <tr>\n",
       "            <td>2007-10-10T13:00:00</td> <td>0.00152555           </td>\n",
       "        </tr>\n",
       "    </tbody>\n",
       "        <tr>\n",
       "            <td>2007-10-11T10:00:00</td> <td>0.00147189           </td>\n",
       "        </tr>\n",
       "    </tbody>\n",
       "        <tr>\n",
       "            <td>2007-10-12T10:00:00</td> <td>0.000577701          </td>\n",
       "        </tr>\n",
       "    </tbody>\n",
       "        <tr>\n",
       "            <td>2007-10-23T13:00:00</td> <td>0.00149031           </td>\n",
       "        </tr>\n",
       "    </tbody>\n",
       "        <tr>\n",
       "            <td>2007-10-24T13:00:00</td> <td>0                    </td>\n",
       "        </tr>\n",
       "    </tbody>\n",
       "</table>\n",
       "<p>... (1162 rows omitted)</p"
      ],
      "text/plain": [
       "Time                | Game frame proportion\n",
       "2007-10-02T12:00:00 | 0.0103093\n",
       "2007-10-03T13:00:00 | 0.00231099\n",
       "2007-10-04T10:00:00 | 0.00246457\n",
       "2007-10-05T10:00:00 | 0.00327439\n",
       "2007-10-09T13:00:00 | 0.00106496\n",
       "2007-10-10T13:00:00 | 0.00152555\n",
       "2007-10-11T10:00:00 | 0.00147189\n",
       "2007-10-12T10:00:00 | 0.000577701\n",
       "2007-10-23T13:00:00 | 0.00149031\n",
       "2007-10-24T13:00:00 | 0\n",
       "... (1162 rows omitted)"
      ]
     },
     "execution_count": 198,
     "metadata": {},
     "output_type": "execute_result"
    }
   ],
   "source": [
    "# I fill the table with data on the time of the debate and the proportion of game frame words.\n",
    "game_frame_table = t.with_rows(list_of_debate_date_and_game_frame_proportion)\n",
    "game_frame_table"
   ]
  },
  {
   "cell_type": "code",
   "execution_count": 199,
   "metadata": {},
   "outputs": [
    {
     "data": {
      "text/html": [
       "<table border=\"1\" class=\"dataframe\">\n",
       "    <thead>\n",
       "        <tr>\n",
       "            <th>Time</th> <th>Game frame proportion</th>\n",
       "        </tr>\n",
       "    </thead>\n",
       "    <tbody>\n",
       "        <tr>\n",
       "            <td>2007-10-03T13:00:00</td> <td>0.00231099           </td>\n",
       "        </tr>\n",
       "    </tbody>\n",
       "        <tr>\n",
       "            <td>2007-10-04T10:00:00</td> <td>0.00246457           </td>\n",
       "        </tr>\n",
       "    </tbody>\n",
       "        <tr>\n",
       "            <td>2007-10-05T10:00:00</td> <td>0.00327439           </td>\n",
       "        </tr>\n",
       "    </tbody>\n",
       "        <tr>\n",
       "            <td>2007-10-09T13:00:00</td> <td>0.00106496           </td>\n",
       "        </tr>\n",
       "    </tbody>\n",
       "        <tr>\n",
       "            <td>2007-10-10T13:00:00</td> <td>0.00152555           </td>\n",
       "        </tr>\n",
       "    </tbody>\n",
       "        <tr>\n",
       "            <td>2007-10-11T10:00:00</td> <td>0.00147189           </td>\n",
       "        </tr>\n",
       "    </tbody>\n",
       "        <tr>\n",
       "            <td>2007-10-12T10:00:00</td> <td>0.000577701          </td>\n",
       "        </tr>\n",
       "    </tbody>\n",
       "        <tr>\n",
       "            <td>2007-10-23T13:00:00</td> <td>0.00149031           </td>\n",
       "        </tr>\n",
       "    </tbody>\n",
       "        <tr>\n",
       "            <td>2007-11-27T12:00:00</td> <td>0.00834403           </td>\n",
       "        </tr>\n",
       "    </tbody>\n",
       "        <tr>\n",
       "            <td>2007-11-29T10:00:00</td> <td>0.00737447           </td>\n",
       "        </tr>\n",
       "    </tbody>\n",
       "</table>\n",
       "<p>... (1133 rows omitted)</p"
      ],
      "text/plain": [
       "Time                | Game frame proportion\n",
       "2007-10-03T13:00:00 | 0.00231099\n",
       "2007-10-04T10:00:00 | 0.00246457\n",
       "2007-10-05T10:00:00 | 0.00327439\n",
       "2007-10-09T13:00:00 | 0.00106496\n",
       "2007-10-10T13:00:00 | 0.00152555\n",
       "2007-10-11T10:00:00 | 0.00147189\n",
       "2007-10-12T10:00:00 | 0.000577701\n",
       "2007-10-23T13:00:00 | 0.00149031\n",
       "2007-11-27T12:00:00 | 0.00834403\n",
       "2007-11-29T10:00:00 | 0.00737447\n",
       "... (1133 rows omitted)"
      ]
     },
     "execution_count": 199,
     "metadata": {},
     "output_type": "execute_result"
    }
   ],
   "source": [
    "# Now I remove all the transcripts with less than 5000 characters\n",
    "final_data = game_frame_table.exclude(index_of_short_transcripts)\n",
    "final_data"
   ]
  },
  {
   "cell_type": "code",
   "execution_count": 200,
   "metadata": {
    "collapsed": true
   },
   "outputs": [],
   "source": [
    "## Exporting data as a CSV\n",
    "final_data.to_df().to_csv(\"debate_game_frame.csv\")"
   ]
  }
 ],
 "metadata": {
  "kernelspec": {
   "display_name": "Python 3",
   "language": "python",
   "name": "python3"
  },
  "language_info": {
   "codemirror_mode": {
    "name": "ipython",
    "version": 3
   },
   "file_extension": ".py",
   "mimetype": "text/x-python",
   "name": "python",
   "nbconvert_exporter": "python",
   "pygments_lexer": "ipython3",
   "version": "3.6.2"
  }
 },
 "nbformat": 4,
 "nbformat_minor": 2
}
